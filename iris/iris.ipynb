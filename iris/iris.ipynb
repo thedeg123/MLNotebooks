{
 "cells": [
  {
   "cell_type": "code",
   "execution_count": 121,
   "metadata": {},
   "outputs": [],
   "source": [
    "import numpy as np\n",
    "from sklearn import datasets\n",
    "from sklearn.pipeline import Pipeline\n",
    "from sklearn.preprocessing import StandardScaler\n",
    "from sklearn.svm import LinearSVC\n",
    "iris_set = datasets.load_iris()"
   ]
  },
  {
   "cell_type": "code",
   "execution_count": 122,
   "metadata": {},
   "outputs": [
    {
     "data": {
      "text/plain": [
       "Pipeline(steps=(('scaler', StandardScaler(copy=True, with_mean=True, with_std=True)), ('model', LinearSVC(C=10, class_weight=None, dual=True, fit_intercept=True,\n",
       "     intercept_scaling=1, loss='hinge', max_iter=1000, multi_class='ovr',\n",
       "     penalty='l2', random_state=None, tol=0.0001, verbose=0))))"
      ]
     },
     "execution_count": 122,
     "metadata": {},
     "output_type": "execute_result"
    }
   ],
   "source": [
    "X = iris_set['data'][:, (2,3)] #length and width\n",
    "y = (iris_set['target'] == 1).astype(np.float64) #all those that are of the first type\n",
    "\n",
    "cat_model_type = LinearSVC(C=10, loss = \"hinge\")\n",
    "\n",
    "model = Pipeline((\n",
    "    ('scaler', StandardScaler()),\n",
    "    ('model', cat_model_type),\n",
    "))\n",
    "model.fit(X, y)"
   ]
  },
  {
   "cell_type": "code",
   "execution_count": 123,
   "metadata": {},
   "outputs": [
    {
     "data": {
      "text/plain": [
       "array([0.])"
      ]
     },
     "execution_count": 123,
     "metadata": {},
     "output_type": "execute_result"
    }
   ],
   "source": [
    "model.predict([[5.5, 1.7]])"
   ]
  },
  {
   "cell_type": "code",
   "execution_count": 270,
   "metadata": {
    "scrolled": true
   },
   "outputs": [],
   "source": [
    "from sklearn.preprocessing import PolynomialFeatures\n",
    "Lin_model_type = SVR(degree=5, C=1000, epsilon=.01)\n",
    "moon_set = datasets.make_moons()\n",
    "X,y = moon_set[0], moon_set[1]\n",
    "#generating a polynomial svc\n",
    "poly_svm_clf = Pipeline((\n",
    "    ('feat', PolynomialFeatures(2)), \n",
    "    ('scaler', StandardScaler()),\n",
    "    ('model', Lin_model_type),\n",
    "))\n",
    "poly_svm_clf.fit(X[:,0].reshape(-1,1),X[:,1])\n",
    "pred = poly_svm_clf.predict(X[:,0].reshape(-1,1))"
   ]
  },
  {
   "cell_type": "code",
   "execution_count": 271,
   "metadata": {},
   "outputs": [
    {
     "data": {
      "text/plain": [
       "[<matplotlib.lines.Line2D at 0x1a1fb69c50>,\n",
       " <matplotlib.lines.Line2D at 0x1a1fb69dd8>]"
      ]
     },
     "execution_count": 271,
     "metadata": {},
     "output_type": "execute_result"
    },
    {
     "data": {
      "image/png": "[encoded data removed]",
      "text/plain": [
       "<Figure size 432x288 with 1 Axes>"
      ]
     },
     "metadata": {},
     "output_type": "display_data"
    }
   ],
   "source": [
    "import matplotlib.pyplot as plt\n",
    "plt.plot(X[:,0], X[:,1], 'b.', X[:,0], pred, 'r.')"
   ]
  },
  {
   "cell_type": "code",
   "execution_count": 261,
   "metadata": {},
   "outputs": [],
   "source": [
    "from sklearn.svm import SVR\n",
    "svm_reg = Pipeline((\n",
    "    ('scaler', StandardScaler()),\n",
    "    ('model', Lin_model_type),\n",
    "))\n",
    "svm_reg.fit(X[:,0].reshape(-1,1),X[:,1])\n",
    "pred = svm_reg.predict(X[:,0].reshape(-1,1))"
   ]
  },
  {
   "cell_type": "code",
   "execution_count": 246,
   "metadata": {},
   "outputs": [],
   "source": [
    "X_poly = (np.arange(0.0,10.0) + (np.random.rand(10)*2))**2\n",
    "X_poly2 = np.flip(X_poly, axis=0)\n",
    "y = np.append(X_poly2, X_poly)\n",
    "x = np.arange(-10.0,10.0)\n"
   ]
  },
  {
   "cell_type": "code",
   "execution_count": 247,
   "metadata": {},
   "outputs": [],
   "source": [
    "svm_reg.fit(x.reshape(-1,1),y)\n",
    "pred = svm_reg.predict(x.reshape(-1,1))"
   ]
  },
  {
   "cell_type": "code",
   "execution_count": 248,
   "metadata": {},
   "outputs": [
    {
     "data": {
      "text/plain": [
       "[<matplotlib.lines.Line2D at 0x1a1f21a7f0>,\n",
       " <matplotlib.lines.Line2D at 0x1a1f21a978>]"
      ]
     },
     "execution_count": 248,
     "metadata": {},
     "output_type": "execute_result"
    },
    {
     "data": {
      "image/png": "[encoded data removed]",
      "text/plain": [
       "<Figure size 432x288 with 1 Axes>"
      ]
     },
     "metadata": {},
     "output_type": "display_data"
    }
   ],
   "source": [
    "plt.plot(x,y, 'b.', x,pred, 'r-')"
   ]
  },
  {
   "cell_type": "code",
   "execution_count": null,
   "metadata": {},
   "outputs": [],
   "source": []
  }
 ],
 "metadata": {
  "kernelspec": {
   "display_name": "Python 3",
   "language": "python",
   "name": "python3"
  },
  "language_info": {
   "codemirror_mode": {
    "name": "ipython",
    "version": 3
   },
   "file_extension": ".py",
   "mimetype": "text/x-python",
   "name": "python",
   "nbconvert_exporter": "python",
   "pygments_lexer": "ipython3",
   "version": "3.6.5"
  }
 },
 "nbformat": 4,
 "nbformat_minor": 2
}
