{
 "cells": [
  {
   "cell_type": "code",
   "execution_count": 24,
   "metadata": {},
   "outputs": [
    {
     "data": {
      "text/plain": [
       "{'__header__': b'MATLAB 5.0 MAT-file Platform: posix, Created on: Sun Mar 30 03:19:02 2014',\n",
       " '__version__': '1.0',\n",
       " '__globals__': [],\n",
       " 'mldata_descr_ordering': array([[array(['label'], dtype='<U5'), array(['data'], dtype='<U4')]],\n",
       "       dtype=object),\n",
       " 'data': array([[0, 0, 0, ..., 0, 0, 0],\n",
       "        [0, 0, 0, ..., 0, 0, 0],\n",
       "        [0, 0, 0, ..., 0, 0, 0],\n",
       "        ...,\n",
       "        [0, 0, 0, ..., 0, 0, 0],\n",
       "        [0, 0, 0, ..., 0, 0, 0],\n",
       "        [0, 0, 0, ..., 0, 0, 0]], dtype=uint8),\n",
       " 'label': array([[0., 0., 0., ..., 9., 9., 9.]])}"
      ]
     },
     "execution_count": 24,
     "metadata": {},
     "output_type": "execute_result"
    }
   ],
   "source": [
    "from scipy.io import loadmat\n",
    "#loading in dataset\n",
    "path = './data/mnist-original.mat'\n",
    "mnist = loadmat(path)\n",
    "mnist"
   ]
  },
  {
   "cell_type": "code",
   "execution_count": 35,
   "metadata": {},
   "outputs": [
    {
     "name": "stdout",
     "output_type": "stream",
     "text": [
      "(70000, 784) (70000,)\n"
     ]
    }
   ],
   "source": [
    "from numpy import swapaxes\n",
    "#reshaping\n",
    "X,y = mnist['data'],mnist['label'][0]\n",
    "X = swapaxes(X,1,0)\n",
    "print (X.shape, y.shape)"
   ]
  },
  {
   "cell_type": "code",
   "execution_count": 61,
   "metadata": {},
   "outputs": [],
   "source": [
    "%matplotlib inline\n",
    "import matplotlib\n",
    "import matplotlib.pyplot as plt\n",
    "def printImage(x):\n",
    "    '''\n",
    "    prints the image of a given digit\n",
    "    '''\n",
    "    some_digit = x.reshape(28,28)\n",
    "    plt.imshow(some_digit, cmap = matplotlib.cm.binary,\n",
    "           interpolation=\"nearest\")\n",
    "    plt.axis(\"off\")\n",
    "    plt.show()"
   ]
  },
  {
   "cell_type": "code",
   "execution_count": 62,
   "metadata": {},
   "outputs": [
    {
     "data": {
      "image/png": "[encoded data removed]",
      "text/plain": [
       "<Figure size 432x288 with 1 Axes>"
      ]
     },
     "metadata": {},
     "output_type": "display_data"
    },
    {
     "name": "stdout",
     "output_type": "stream",
     "text": [
      "0.0\n"
     ]
    }
   ],
   "source": [
    "#verifying data set is correct\n",
    "printImage(X[3601])\n",
    "print(y[3601])"
   ]
  },
  {
   "cell_type": "code",
   "execution_count": 199,
   "metadata": {},
   "outputs": [
    {
     "data": {
      "text/plain": [
       "(60000, 784)"
      ]
     },
     "execution_count": 199,
     "metadata": {},
     "output_type": "execute_result"
    }
   ],
   "source": [
    "#splitting into train and test data sets\n",
    "X_train, X_test, y_train, y_test = X[:60000], X[60000:], y[:60000], y[60000:]\n",
    "import numpy as np\n",
    "shuffle_perm = np.random.permutation(60000)\n",
    "X_train, y_train = X_train[shuffle_perm], y_train[shuffle_perm]"
   ]
  },
  {
   "cell_type": "code",
   "execution_count": 47,
   "metadata": {},
   "outputs": [
    {
     "data": {
      "text/plain": [
       "SGDClassifier(alpha=0.0001, average=False, class_weight=None, epsilon=0.1,\n",
       "       eta0=0.0, fit_intercept=True, l1_ratio=0.15,\n",
       "       learning_rate='optimal', loss='hinge', n_iter=5, n_jobs=1,\n",
       "       penalty='l2', power_t=0.5, random_state=42, shuffle=True, verbose=0,\n",
       "       warm_start=False)"
      ]
     },
     "execution_count": 47,
     "metadata": {},
     "output_type": "execute_result"
    }
   ],
   "source": [
    "#4-not-4 classifier\n",
    "y_train_4 = (y_train == 4) #true for all 4, flase for all other digits\n",
    "y_test_4 = (y_test == 4)\n",
    "\n",
    "from sklearn.linear_model import SGDClassifier as sgdc\n",
    "sgdc_4 = sgdc(random_state=42)\n",
    "sgdc_4.fit(X_train, y_train_4)"
   ]
  },
  {
   "cell_type": "code",
   "execution_count": 130,
   "metadata": {},
   "outputs": [
    {
     "data": {
      "image/png": "[encoded data removed]",
      "text/plain": [
       "<Figure size 432x288 with 1 Axes>"
      ]
     },
     "metadata": {},
     "output_type": "display_data"
    },
    {
     "data": {
      "image/png": "[encoded data removed]",
      "text/plain": [
       "<Figure size 432x288 with 1 Axes>"
      ]
     },
     "metadata": {},
     "output_type": "display_data"
    },
    {
     "data": {
      "text/plain": [
       "array([False,  True])"
      ]
     },
     "execution_count": 130,
     "metadata": {},
     "output_type": "execute_result"
    }
   ],
   "source": [
    "#a random first numer\n",
    "rand_val = np.random.randint(low=0,high=60000)\n",
    "val_1 = X_train[rand_val]\n",
    "printImage(val_1)\n",
    "\n",
    "#a random second numer\n",
    "rand_val = np.random.randint(low=0,high=60000)\n",
    "val_2 = X_train[rand_val]\n",
    "printImage(val_2)\n",
    "\n",
    "sgdc_4.predict([val_1, val_2])"
   ]
  },
  {
   "cell_type": "code",
   "execution_count": 128,
   "metadata": {},
   "outputs": [
    {
     "data": {
      "text/plain": [
       "(array([False,  True]), array([53988,  6012]))"
      ]
     },
     "execution_count": 128,
     "metadata": {},
     "output_type": "execute_result"
    }
   ],
   "source": [
    "#measuring accuracy\n",
    "from sklearn.model_selection import cross_val_predict\n",
    "y_train_pred = cross_val_predict(sgdc_4, X_train, y_train_4, cv=3)\n",
    "np.unique(y_train_pred,return_counts=True)"
   ]
  },
  {
   "cell_type": "code",
   "execution_count": 172,
   "metadata": {},
   "outputs": [
    {
     "name": "stdout",
     "output_type": "stream",
     "text": [
      "[[53247   911]\n",
      " [  741  5101]]\n",
      "First row considers non 4 values,  53247 of them were correctly classified as not 4 while 911 were wrongly classified as 4. 2nd row is all values that were 4 741 were wrongly classified as not 4 while 5101 were correctly classified as 4.\n"
     ]
    }
   ],
   "source": [
    "from sklearn.metrics import confusion_matrix #very confused\n",
    "confusion = confusion_matrix(y_train_4, y_train_pred)\n",
    "print(confusion)\n",
    "print(\"First row considers non 4 values, \",confusion[0][0],\"of them were correctly classified as not 4 while\",\\\n",
    "      confusion[0][1],\"were wrongly classified as 4. 2nd row is all values that were 4\",confusion[1][0],\\\n",
    "      \"were wrongly classified as not 4 while\",confusion[1][1],\"were correctly classified as 4.\")\n",
    "def get_scores(y_train, y_pred):\n",
    "    '''\n",
    "    y train - expected values\n",
    "    y pred - model given values\n",
    "    returns recall, precision, fscore\n",
    "    '''\n",
    "    confusion = confusion_matrix(y_train, y_pred)\n",
    "    fp = confusion[0][1] # false_positive\n",
    "    fn = confusion[1][0] #false_negative\n",
    "    tp = confusion[1][1] #true_positive\n",
    "    recall = tp/(tp+fn)\n",
    "    precision = tp/(tp+fp)\n",
    "    fscore = 2/((1/precision)+(1/recall))\n",
    "    return (precision, recall, fscore)"
   ]
  },
  {
   "cell_type": "code",
   "execution_count": 159,
   "metadata": {
    "scrolled": true
   },
   "outputs": [
    {
     "name": "stdout",
     "output_type": "stream",
     "text": [
      "Precision (When claiming it sees a 4, is correct): 84.84697272122422 % of time.\n",
      "Recall(Model catches): 87.31598767545361 % of fours.\n",
      "F-score of: 0.8606377594061078\n"
     ]
    }
   ],
   "source": [
    "precision, recall, fscore = get_scores(y_train_4, y_train_pred)\n",
    "print(\"Precision (When claiming it sees a 4, is correct):\", (precision*100), \"% of time.\\nRecall(Model catches):\"\\\n",
    "      ,(recall*100),\"% of fours.\\nF-score of:\",fscore)"
   ]
  },
  {
   "cell_type": "code",
   "execution_count": 174,
   "metadata": {},
   "outputs": [
    {
     "name": "stdout",
     "output_type": "stream",
     "text": [
      "[-1198973.42539249  -554185.22275959  -262615.57391436 ...\n",
      "  -435761.25085804  -835786.62348743  -543732.38576083]\n"
     ]
    }
   ],
   "source": [
    "#finding precision and recall at all possible thresholds\n",
    "#the decision score for each value\n",
    "y_train_decision = cross_val_predict(sgdc_4, X_train, y_train_4, cv=3, method = \"decision_function\")\n",
    "from sklearn.metrics import precision_recall_curve as prc\n",
    "precisions, recalls, thresholds = prc(y_train_4, y_train_decision)\n",
    "print(y_train_decision)"
   ]
  },
  {
   "cell_type": "code",
   "execution_count": 139,
   "metadata": {},
   "outputs": [
    {
     "data": {
      "text/plain": [
       "0.986683680886585"
      ]
     },
     "execution_count": 139,
     "metadata": {},
     "output_type": "execute_result"
    }
   ],
   "source": [
    "from sklearn.metrics import roc_auc_score\n",
    "#perfect classifier area under true_positive_rate v false_positive_rate equals 1\n",
    "roc_auc_score(y_train_4, y_train_decision)"
   ]
  },
  {
   "cell_type": "code",
   "execution_count": 141,
   "metadata": {},
   "outputs": [],
   "source": [
    "from sklearn.ensemble import RandomForestClassifier as rfc\n",
    "forest_clf = rfc(random_state=42)"
   ]
  },
  {
   "cell_type": "code",
   "execution_count": 146,
   "metadata": {},
   "outputs": [
    {
     "data": {
      "text/plain": [
       "array([[1., 0.],\n",
       "       [1., 0.],\n",
       "       [1., 0.],\n",
       "       [1., 0.],\n",
       "       [1., 0.],\n",
       "       [1., 0.],\n",
       "       [1., 0.],\n",
       "       [1., 0.],\n",
       "       [1., 0.],\n",
       "       [1., 0.]])"
      ]
     },
     "execution_count": 146,
     "metadata": {},
     "output_type": "execute_result"
    }
   ],
   "source": [
    "y_prob_forest = cross_val_predict(forest_clf, X_train, y_train_4, cv=3, method=\"predict_proba\") \\\n",
    "#same thing as decision_func except gives a matrix with probability it thinks a image is each value"
   ]
  },
  {
   "cell_type": "code",
   "execution_count": 175,
   "metadata": {},
   "outputs": [
    {
     "data": {
      "text/plain": [
       "0.9938371136406026"
      ]
     },
     "execution_count": 175,
     "metadata": {},
     "output_type": "execute_result"
    }
   ],
   "source": [
    "y_forest_decision = y_prob_forest[:,1]\n",
    "roc_auc_score(y_train_4, y_forest_decision)"
   ]
  },
  {
   "cell_type": "code",
   "execution_count": 197,
   "metadata": {},
   "outputs": [
    {
     "data": {
      "text/plain": [
       "(array([False,  True]), array([55078,  4922]))"
      ]
     },
     "execution_count": 197,
     "metadata": {},
     "output_type": "execute_result"
    }
   ],
   "source": [
    "threshold = 0.5 #value between 0 and 1, interesting to see how precision and recall fluctuate when threshold changes\n",
    "y_decision_threshold = y_forest_decision>threshold\n",
    "np.unique((y_decision_threshold),return_counts=True)"
   ]
  },
  {
   "cell_type": "code",
   "execution_count": 198,
   "metadata": {},
   "outputs": [
    {
     "name": "stdout",
     "output_type": "stream",
     "text": [
      "Precision (When claiming it sees a 4, is correct): 98.7403494514425 % of time.\n",
      "Recall(Model catches): 83.19068812050668 % of fours.\n",
      "F-score of: 0.9030100334448159\n"
     ]
    }
   ],
   "source": [
    "precision, recall, fscore = get_scores(y_train_4, y_decision_threshold)\n",
    "print(\"Precision (When claiming it sees a 4, is correct):\", (precision*100), \"% of time.\\nRecall(Model catches):\"\\\n",
    "      ,(recall*100),\"% of fours.\\nF-score of:\",fscore)"
   ]
  },
  {
   "cell_type": "code",
   "execution_count": 202,
   "metadata": {},
   "outputs": [
    {
     "data": {
      "text/plain": [
       "SGDClassifier(alpha=0.0001, average=False, class_weight=None, epsilon=0.1,\n",
       "       eta0=0.0, fit_intercept=True, l1_ratio=0.15,\n",
       "       learning_rate='optimal', loss='hinge', n_iter=5, n_jobs=1,\n",
       "       penalty='l2', power_t=0.5, random_state=42, shuffle=True, verbose=0,\n",
       "       warm_start=False)"
      ]
     },
     "execution_count": 202,
     "metadata": {},
     "output_type": "execute_result"
    }
   ],
   "source": [
    "#0-9 general classifier\n",
    "sgdc_general = sgdc(random_state=42)\n",
    "sgdc_general.fit(X_train, y_train)"
   ]
  },
  {
   "cell_type": "code",
   "execution_count": 208,
   "metadata": {},
   "outputs": [
    {
     "data": {
      "image/png": "[encoded data removed]",
      "text/plain": [
       "<Figure size 432x288 with 1 Axes>"
      ]
     },
     "metadata": {},
     "output_type": "display_data"
    },
    {
     "data": {
      "text/plain": [
       "array([1.])"
      ]
     },
     "execution_count": 208,
     "metadata": {},
     "output_type": "execute_result"
    }
   ],
   "source": [
    "#0-9 general classifier in action\n",
    "rand_val = np.random.randint(low=0,high=60000)\n",
    "val_1 = X_train[rand_val]\n",
    "printImage(val_1)\n",
    "sgdc_general.predict([val_1])"
   ]
  },
  {
   "cell_type": "code",
   "execution_count": 211,
   "metadata": {},
   "outputs": [
    {
     "name": "stdout",
     "output_type": "stream",
     "text": [
      "[[0.  0.7 0.  0.  0.  0.  0.  0.1 0.2 0. ]]\n"
     ]
    },
    {
     "data": {
      "image/png": "[encoded data removed]",
      "text/plain": [
       "<Figure size 432x288 with 1 Axes>"
      ]
     },
     "metadata": {},
     "output_type": "display_data"
    }
   ],
   "source": [
    "forest_clf.fit(X_train, y_train)\n",
    "print(forest_clf.predict_proba([val_1]))\n",
    "printImage(val_1)"
   ]
  },
  {
   "cell_type": "code",
   "execution_count": 220,
   "metadata": {},
   "outputs": [
    {
     "data": {
      "text/plain": [
       "array([ 0.        ,  0.        ,  0.        ,  0.        ,  0.        ,\n",
       "        0.        ,  0.        ,  0.        ,  0.        ,  0.        ,\n",
       "        0.        ,  0.        , -0.00441808, -0.00575482, -0.00408252,\n",
       "       -0.00408252,  0.        ,  0.        ,  0.        ,  0.        ,\n",
       "        0.        ,  0.        ,  0.        ,  0.        ,  0.        ,\n",
       "        0.        ,  0.        ,  0.        ,  0.        ,  0.        ,\n",
       "        0.        ,  0.        , -0.00408252, -0.00470969, -0.00879935,\n",
       "       -0.01159056, -0.01475898, -0.01928485, -0.0246718 , -0.02907103,\n",
       "       -0.03059266, -0.03116401, -0.03196287, -0.03020254, -0.03131022,\n",
       "       -0.0283834 , -0.02311919, -0.01916663, -0.0167723 , -0.01099636,\n",
       "       -0.00832486, -0.00438069,  0.        ,  0.        ,  0.        ,\n",
       "        0.        ,  0.        ,  0.        , -0.00408252, -0.00539535,\n",
       "       -0.00852241, -0.01198504, -0.01765348, -0.0277109 , -0.03702009,\n",
       "       -0.05215128, -0.0670362 , -0.08301705, -0.0993793 , -0.11518413,\n",
       "       -0.12913326, -0.13839468, -0.13888363, -0.13184344, -0.12042952,\n",
       "       -0.10189079, -0.0786049 , -0.05699561, -0.03965768, -0.02372839,\n",
       "       -0.01408835, -0.00783084,  0.        ,  0.        ,  0.        ,\n",
       "        0.        , -0.00536838, -0.00887061, -0.01407082, -0.02214681,\n",
       "       -0.03518014, -0.05502368, -0.07909613, -0.10764901, -0.13716994,\n",
       "       -0.16710576, -0.19600876, -0.22449111, -0.24865599, -0.26211797,\n",
       "       -0.2625969 , -0.2478559 , -0.221947  , -0.1872114 , -0.14764013,\n",
       "       -0.10816436, -0.07681211, -0.0470753 , -0.03020197, -0.01524124,\n",
       "       -0.00528372,  0.        ,  0.        , -0.00408252, -0.00776342,\n",
       "       -0.01489325, -0.02396275, -0.0503409 , -0.07876747, -0.11618154,\n",
       "       -0.16124756, -0.21196164, -0.26689873, -0.32567801, -0.39024155,\n",
       "       -0.45207638, -0.49939798, -0.52342832, -0.51761889, -0.48090242,\n",
       "       -0.42307969, -0.35674039, -0.28368365, -0.21683666, -0.15852438,\n",
       "       -0.10878458, -0.07092253, -0.03895348, -0.01425239, -0.0057705 ,\n",
       "        0.        ,  0.        , -0.01190174, -0.02205016, -0.05183807,\n",
       "       -0.0906597 , -0.13966711, -0.19708212, -0.26438473, -0.34073044,\n",
       "       -0.42253575, -0.51540865, -0.61603533, -0.7159833 , -0.79412047,\n",
       "       -0.83504925, -0.82418581, -0.76283928, -0.6665595 , -0.5562504 ,\n",
       "       -0.44764565, -0.34762461, -0.26084091, -0.19030605, -0.13108013,\n",
       "       -0.07484604, -0.03193013, -0.00820892,  0.        , -0.00557015,\n",
       "       -0.01566193, -0.03636566, -0.07902431, -0.13328909, -0.19915441,\n",
       "       -0.27542969, -0.36333595, -0.46308053, -0.57484519, -0.69880387,\n",
       "        0.22949046,  1.34001709,  0.70868167, -0.84656111, -1.08350761,\n",
       "       -0.99895165, -0.87474762, -0.72455973, -0.5806059 , -0.45215876,\n",
       "       -0.33932343, -0.24893037, -0.1729397 , -0.10410424, -0.04831762,\n",
       "       -0.01470802, -0.00408252, -0.01323101, -0.02624382, -0.05915859,\n",
       "       -0.11300485, -0.17844153, -0.25800481, -0.35091181, -0.45909822,\n",
       "       -0.58414556, -0.72495421, -0.87563927,  0.78598492,  1.17745685,\n",
       "        1.10694142, -0.19431874, -1.2096977 , -1.14460983, -1.02312554,\n",
       "       -0.86295358, -0.69048024, -0.53290132, -0.39754744, -0.28768128,\n",
       "       -0.19700703, -0.12122894, -0.05680861, -0.01539067, -0.00502549,\n",
       "       -0.01732052, -0.04308054, -0.0852489 , -0.13945837, -0.21088331,\n",
       "       -0.30001798, -0.40728153, -0.53288848, -0.68062943, -0.8419885 ,\n",
       "       -0.98243825,  0.95910112,  1.18172079,  1.18685158,  1.19727292,\n",
       "       -1.10802468, -1.10020433, -1.04378667, -0.9129785 , -0.73919131,\n",
       "       -0.5710055 , -0.423671  , -0.29819621, -0.19768614, -0.12068382,\n",
       "       -0.05393563, -0.01350554, -0.00590571, -0.02110967, -0.05298904,\n",
       "       -0.09307849, -0.15039873, -0.22619102, -0.32364534, -0.44213122,\n",
       "       -0.58424748, -0.74857559, -0.90044933, -0.99238771,  1.29530929,\n",
       "        1.10297681,  1.43109771,  1.43094242, -0.68905048, -1.00308794,\n",
       "       -0.99948655, -0.90150861, -0.73668152, -0.56758942, -0.4201719 ,\n",
       "       -0.2901746 , -0.18148235, -0.10493977, -0.04721317, -0.01413087,\n",
       "       -0.00577281, -0.02263228, -0.05280317, -0.09220581, -0.1474517 ,\n",
       "       -0.22728459, -0.33242832, -0.46269616, -0.61903352, -0.78428269,\n",
       "       -0.90820988, -0.93137298,  1.49209183,  1.65313068,  1.15170736,\n",
       "        1.62066686,  0.96948877, -0.95157541, -0.96213107, -0.86347326,\n",
       "       -0.70132425, -0.53739656, -0.39677103, -0.27122264, -0.15932446,\n",
       "       -0.08125841, -0.03695087, -0.0118734 , -0.00705517, -0.02077118,\n",
       "       -0.04720356, -0.08200384, -0.13745728, -0.22518196, -0.33849238,\n",
       "       -0.482935  , -0.64828822, -0.80980531, -0.89646046, -0.34798008,\n",
       "        1.6655656 ,  0.67575508,  0.09589615,  1.59243223,  1.460906  ,\n",
       "       -0.71392237, -0.95554794, -0.8249029 , -0.65598784, -0.49936419,\n",
       "       -0.36957331, -0.25846441, -0.14969571, -0.06111136, -0.02801157,\n",
       "       -0.0091251 , -0.00530435, -0.0162384 , -0.03637861, -0.06858201,\n",
       "       -0.1273685 , -0.22614336, -0.35220291, -0.50758351, -0.67944964,\n",
       "       -0.82825105, -0.88883004,  1.24707467,  1.68578356, -0.77020475,\n",
       "       -0.82034372,  1.38296442,  1.29242226, -0.79726689, -0.96567404,\n",
       "       -0.79447676, -0.61674936, -0.47007288, -0.35512441, -0.25540754,\n",
       "       -0.15382451, -0.05245428, -0.02150587, -0.00992198, -0.00408252,\n",
       "       -0.01093439, -0.0255448 , -0.05707308, -0.12466202, -0.23849817,\n",
       "       -0.3732589 , -0.53313607, -0.70209414, -0.83745005, -0.36232162,\n",
       "        1.51314572,  1.58090869, -0.89192404, -0.97855056,  0.66329847,\n",
       "        1.13867241,  0.38699138, -0.71609654, -0.7751954 , -0.5944466 ,\n",
       "       -0.46091024, -0.35550055, -0.26354918, -0.16450369, -0.05951303,\n",
       "       -0.02336867, -0.00740432, -0.00408252, -0.00798835, -0.01829645,\n",
       "       -0.05133943, -0.1293464 , -0.25752139, -0.39501133, -0.55042172,\n",
       "       -0.70732309, -0.82604982, -0.34756288, -0.06724899,  0.39894295,\n",
       "       -1.03470353, -1.14543618, -1.00942054,  1.0733811 ,  1.12935046,\n",
       "        1.33250971, -0.76301132, -0.59702704, -0.47201999, -0.36837041,\n",
       "       -0.27332532, -0.17338663, -0.06894272, -0.02464466, -0.0069849 ,\n",
       "       -0.00477028, -0.00418943, -0.01864826, -0.05327212, -0.14042052,\n",
       "       -0.27718062, -0.41220901, -0.5540034 , -0.69200544, -0.79258314,\n",
       "       -0.84194084, -0.86976698, -0.95866435, -1.09410266, -1.20489455,\n",
       "       -0.75105224,  1.10632331,  0.67988063, -0.65857356, -0.75248127,\n",
       "       -0.60978718, -0.48675394, -0.38089678, -0.27829889, -0.17549155,\n",
       "       -0.07702614, -0.0296263 , -0.00911024, -0.00408252, -0.00670728,\n",
       "       -0.02160143, -0.06070769, -0.15702241, -0.29716317, -0.4223068 ,\n",
       "       -0.54572671, -0.65910029, -0.74125055, -0.78837956, -0.83396729,\n",
       "       -0.9194134 , -1.02595562, -1.12277551,  0.88578576,  1.19436702,\n",
       "       -0.73916703, -0.87891758, -0.74358354, -0.61562164, -0.49307976,\n",
       "       -0.37987428, -0.27351765, -0.17353912, -0.08405015, -0.03416244,\n",
       "       -0.00893965,  0.        , -0.00893209, -0.02539776, -0.07390018,\n",
       "       -0.17786005, -0.31338343, -0.42901306, -0.53508894, -0.62078199,\n",
       "       -0.68268924, -0.72347014, -0.76555898, -0.82507042, -0.91939024,\n",
       "        0.01236196,  1.24867207,  0.2589167 , -0.9515093 , -0.85546569,\n",
       "       -0.74032107, -0.61326579, -0.48515629, -0.36804198, -0.26078182,\n",
       "       -0.16833376, -0.08854264, -0.03593623, -0.01071081, -0.00590597,\n",
       "       -0.00635211, -0.03332021, -0.09130486, -0.19910803, -0.32796741,\n",
       "       -0.43899543, -0.53445409, -0.6059479 , -0.65940509, -0.69784837,\n",
       "       -0.73042289, -0.78112567, -0.6059576 ,  1.33520459,  1.28701281,\n",
       "       -1.01044884, -0.95294508, -0.85872464, -0.73231139, -0.5949106 ,\n",
       "       -0.46342915, -0.34877114, -0.24588475, -0.15820094, -0.08543796,\n",
       "       -0.03155796, -0.00976041, -0.00408252, -0.01128166, -0.0397571 ,\n",
       "       -0.10385233, -0.21198097, -0.33747789, -0.45170193, -0.55213161,\n",
       "       -0.63188648, -0.69322439, -0.7383849 , -0.77073077, -0.82876952,\n",
       "        0.62181828,  1.27892968,  0.97431748, -1.04812373, -0.96705521,\n",
       "       -0.84650228, -0.70122275, -0.55538565, -0.42707461, -0.31681048,\n",
       "       -0.2206858 , -0.14105726, -0.07817104, -0.02918258, -0.00802579,\n",
       "        0.        , -0.0103421 , -0.04327362, -0.10916701, -0.20903257,\n",
       "       -0.33022464, -0.45487527, -0.56919681, -0.6729436 , -0.76060123,\n",
       "       -0.8287575 , -0.88650819, -0.9598404 ,  0.47184776,  1.1666118 ,\n",
       "        1.16390716, -1.06273937, -0.9393329 , -0.78734757, -0.62699096,\n",
       "       -0.48806277, -0.36895114, -0.26929223, -0.18721262, -0.12162743,\n",
       "       -0.06649382, -0.026033  , -0.00577332, -0.00408252, -0.0100095 ,\n",
       "       -0.04049873, -0.09998471, -0.18820172, -0.29963131, -0.42724847,\n",
       "       -0.55525136, -0.6817774 , -0.80158752, -0.90865685, -1.00894524,\n",
       "       -1.10362289,  0.35907534,  0.59819654, -0.35027695, -0.99470796,\n",
       "       -0.83223274, -0.66712599, -0.52269449, -0.39906543, -0.29670064,\n",
       "       -0.21262622, -0.14869396, -0.09689573, -0.05093109, -0.02021443,\n",
       "       -0.00408252, -0.00408252, -0.00600491, -0.03370635, -0.07897245,\n",
       "       -0.14774138, -0.24325025, -0.3603463 , -0.48644317, -0.62240998,\n",
       "       -0.75670418, -0.88873651, -1.00217059, -1.08959257,  0.64831422,\n",
       "        0.93914426, -0.19035652, -0.81766817, -0.66465591, -0.52359508,\n",
       "       -0.40214203, -0.30306916, -0.22168084, -0.15936594, -0.1100607 ,\n",
       "       -0.07003976, -0.03713562, -0.01220141, -0.00408252,  0.        ,\n",
       "        0.        , -0.02273873, -0.0519054 , -0.09998802, -0.16843162,\n",
       "       -0.26031072, -0.36983708, -0.490098  , -0.61537068, -0.73897799,\n",
       "       -0.8431759 , -0.90195141,  0.89681776,  1.5239883 , -0.73465553,\n",
       "       -0.61257571, -0.49207119, -0.37992817, -0.28881739, -0.21344094,\n",
       "       -0.15366778, -0.10912601, -0.07409876, -0.04331719, -0.01934379,\n",
       "       -0.01040248,  0.        ,  0.        ,  0.        , -0.0103527 ,\n",
       "       -0.0287501 , -0.05756837, -0.09531054, -0.15360976, -0.22342453,\n",
       "       -0.30357777, -0.38847997, -0.47019583, -0.53312357, -0.56650599,\n",
       "        1.31455146,  2.43133326, -0.4680574 , -0.39580505, -0.32478945,\n",
       "       -0.25570503, -0.19461171, -0.14457421, -0.10177354, -0.07142522,\n",
       "       -0.04777776, -0.02575244, -0.01137942, -0.00475287,  0.        ,\n",
       "        0.        ,  0.        , -0.0066643 , -0.01096421, -0.02760445,\n",
       "       -0.0515536 , -0.08677185, -0.12839203, -0.1757759 , -0.22305444,\n",
       "       -0.26664029, -0.29484432, -0.30750543,  0.67343453,  2.29063543,\n",
       "       -0.26323129, -0.23372359, -0.20102782, -0.16369105, -0.127666  ,\n",
       "       -0.09396514, -0.06568326, -0.04592653, -0.02871881, -0.01569304,\n",
       "       -0.00567531, -0.00408252,  0.        ,  0.        ,  0.        ,\n",
       "        0.        , -0.00408252, -0.01512139, -0.03136955, -0.05333023,\n",
       "       -0.07922827, -0.10837665, -0.13397907, -0.15751318, -0.17510551,\n",
       "       -0.1826269 , -0.18053534, -0.16987649, -0.15315731, -0.13543312,\n",
       "       -0.1164803 , -0.09395125, -0.07257689, -0.05236436, -0.036383  ,\n",
       "       -0.02150306, -0.01301928, -0.00449422, -0.00408252,  0.        ,\n",
       "        0.        ,  0.        ,  0.        ,  0.        ,  0.        ,\n",
       "       -0.00579016, -0.00905385, -0.01600544, -0.02211976, -0.026846  ,\n",
       "       -0.03184506, -0.04374841, -0.04728295, -0.0531388 , -0.05662282,\n",
       "       -0.06033836, -0.056295  , -0.05136654, -0.04263228, -0.03317103,\n",
       "       -0.02246288, -0.01606909, -0.0114322 , -0.00900729, -0.00577039,\n",
       "        0.        ,  0.        ,  0.        ,  0.        ])"
      ]
     },
     "execution_count": 220,
     "metadata": {},
     "output_type": "execute_result"
    }
   ],
   "source": [
    "from sklearn.preprocessing import StandardScaler\n",
    "scaler = StandardScaler()\n",
    "X_train_scaled = scaler.fit_transform(X_train.astype(np.float64))"
   ]
  },
  {
   "cell_type": "code",
   "execution_count": 221,
   "metadata": {},
   "outputs": [
    {
     "data": {
      "text/plain": [
       "array([[5733,    4,   13,   11,   13,   55,   42,    8,   40,    4],\n",
       "       [   2, 6502,   45,   23,    6,   40,    5,   10,   96,   13],\n",
       "       [  50,   38, 5317,  117,   82,   29,   91,   58,  163,   13],\n",
       "       [  47,   46,  127, 5317,    2,  250,   35,   58,  156,   93],\n",
       "       [  20,   29,   34,    9, 5351,    8,   56,   32,   83,  220],\n",
       "       [  68,   45,   31,  184,   76, 4614,  103,   30,  188,   82],\n",
       "       [  32,   29,   43,    2,   42,   93, 5624,    7,   46,    0],\n",
       "       [  21,   23,   70,   29,   52,   12,    5, 5807,   14,  232],\n",
       "       [  50,  163,   72,  153,   11,  156,   49,   27, 5041,  129],\n",
       "       [  44,   37,   25,   81,  169,   39,    2,  214,   84, 5254]])"
      ]
     },
     "execution_count": 221,
     "metadata": {},
     "output_type": "execute_result"
    }
   ],
   "source": [
    "y_train_pred = cross_val_predict(sgdc_general, X_train_scaled, y_train, cv=3)\n",
    "general_mx = confusion_matrix(y_train, y_train_pred)\n",
    "general_mx"
   ]
  },
  {
   "cell_type": "code",
   "execution_count": 225,
   "metadata": {},
   "outputs": [
    {
     "data": {
      "image/png": "[encoded data removed]",
      "text/plain": [
       "<Figure size 288x288 with 1 Axes>"
      ]
     },
     "metadata": {},
     "output_type": "display_data"
    }
   ],
   "source": [
    "plt.matshow(general_mx, cmap=plt.cm.gray)\n",
    "plt.show()"
   ]
  },
  {
   "cell_type": "code",
   "execution_count": null,
   "metadata": {},
   "outputs": [],
   "source": []
  }
 ],
 "metadata": {
  "kernelspec": {
   "display_name": "Python 3",
   "language": "python",
   "name": "python3"
  },
  "language_info": {
   "codemirror_mode": {
    "name": "ipython",
    "version": 3
   },
   "file_extension": ".py",
   "mimetype": "text/x-python",
   "name": "python",
   "nbconvert_exporter": "python",
   "pygments_lexer": "ipython3",
   "version": "3.6.5"
  }
 },
 "nbformat": 4,
 "nbformat_minor": 2
}
